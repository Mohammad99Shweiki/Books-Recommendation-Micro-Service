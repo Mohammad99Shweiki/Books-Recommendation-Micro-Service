{
 "cells": [
  {
   "cell_type": "markdown",
   "metadata": {
    "collapsed": true,
    "jupyter": {
     "outputs_hidden": true
    },
    "pycharm": {
     "name": "#%% md\n"
    }
   },
   "source": [
    "import needed libraries"
   ]
  },
  {
   "cell_type": "code",
   "execution_count": 6,
   "metadata": {
    "collapsed": false,
    "jupyter": {
     "outputs_hidden": false
    },
    "pycharm": {
     "name": "#%%\n"
    }
   },
   "outputs": [],
   "source": [
    "import pandas as pd\n",
    "import nltk"
   ]
  },
  {
   "cell_type": "markdown",
   "metadata": {
    "collapsed": false,
    "jupyter": {
     "outputs_hidden": false
    },
    "pycharm": {
     "name": "#%% md\n"
    }
   },
   "source": []
  },
  {
   "cell_type": "code",
   "execution_count": 7,
   "metadata": {
    "collapsed": false,
    "jupyter": {
     "outputs_hidden": false
    },
    "pycharm": {
     "name": "#%%\n"
    }
   },
   "outputs": [
    {
     "name": "stdout",
     "output_type": "stream",
     "text": [
      "                                       title                 series  \\\n",
      "0                           The Hunger Games    The Hunger Games #1   \n",
      "1  Harry Potter and the Order of the Phoenix        Harry Potter #5   \n",
      "2                      To Kill a Mockingbird  To Kill a Mockingbird   \n",
      "3                        Pride and Prejudice                    NaN   \n",
      "4                                   Twilight   The Twilight Saga #1   \n",
      "\n",
      "                                      author  \\\n",
      "0                            Suzanne Collins   \n",
      "1  J.K. Rowling, Mary GrandPré (Illustrator)   \n",
      "2                                 Harper Lee   \n",
      "3  Jane Austen, Anna Quindlen (Introduction)   \n",
      "4                            Stephenie Meyer   \n",
      "\n",
      "                                         description  \\\n",
      "0  WINNING MEANS FAME AND FORTUNE.LOSING MEANS CE...   \n",
      "1  There is a door at the end of a silent corrido...   \n",
      "2  The unforgettable novel of a childhood in a sl...   \n",
      "3  Alternate cover edition of ISBN 9780679783268S...   \n",
      "4  About three things I was absolutely positive.\\...   \n",
      "\n",
      "                                              genres  \\\n",
      "0  ['Young Adult', 'Fiction', 'Dystopia', 'Fantas...   \n",
      "1  ['Fantasy', 'Young Adult', 'Fiction', 'Magic',...   \n",
      "2  ['Classics', 'Fiction', 'Historical Fiction', ...   \n",
      "3  ['Classics', 'Fiction', 'Romance', 'Historical...   \n",
      "4  ['Young Adult', 'Fantasy', 'Romance', 'Vampire...   \n",
      "\n",
      "                                          characters bookFormat  \\\n",
      "0  ['Katniss Everdeen', 'Peeta Mellark', 'Cato (H...  Hardcover   \n",
      "1  ['Sirius Black', 'Draco Malfoy', 'Ron Weasley'...  Paperback   \n",
      "2  ['Scout Finch', 'Atticus Finch', 'Jem Finch', ...  Paperback   \n",
      "3  ['Mr. Bennet', 'Mrs. Bennet', 'Jane Bennet', '...  Paperback   \n",
      "4  ['Edward Cullen', 'Jacob Black', 'Laurent', 'R...  Paperback   \n",
      "\n",
      "                              edition pages                         publisher  \\\n",
      "0                       First Edition   374                  Scholastic Press   \n",
      "1                          US Edition   870                   Scholastic Inc.   \n",
      "2                                 NaN   324  Harper Perennial Modern Classics   \n",
      "3  Modern Library Classics, USA / CAN   279                    Modern Library   \n",
      "4                                 NaN   501         Little, Brown and Company   \n",
      "\n",
      "  publishDate                                             awards  \\\n",
      "0    09/14/08  ['Locus Award Nominee for Best Young Adult Boo...   \n",
      "1    09/28/04  ['Bram Stoker Award for Works for Young Reader...   \n",
      "2    05/23/06  ['Pulitzer Prize for Fiction (1961)', 'Audie A...   \n",
      "3    10/10/00                                                 []   \n",
      "4    09/06/06  ['Georgia Peach Book Award (2007)', 'Buxtehude...   \n",
      "\n",
      "                                             setting  \n",
      "0  ['District 12, Panem', 'Capitol, Panem', 'Pane...  \n",
      "1  ['Hogwarts School of Witchcraft and Wizardry (...  \n",
      "2               ['Maycomb, Alabama (United States)']  \n",
      "3  ['United Kingdom', 'Derbyshire, England (Unite...  \n",
      "4  ['Forks, Washington (United States)', 'Phoenix...  \n"
     ]
    }
   ],
   "source": [
    "data_set = pd.read_csv('book_ds.csv')\n",
    "columns_to_drop = ['bookId','isbn', 'coverImg', 'bbeScore', 'bbeVotes', 'price', 'rating', 'language', 'firstPublishDate', 'numRatings', 'likedPercent', 'ratingsByStars']\n",
    "data_set.drop(columns = columns_to_drop, inplace=True)\n",
    "print(data_set.head())"
   ]
  },
  {
   "cell_type": "markdown",
   "metadata": {
    "collapsed": false,
    "jupyter": {
     "outputs_hidden": false
    },
    "pycharm": {
     "name": "#%% md\n"
    }
   },
   "source": [
    "```\n",
    "2. Clean Text: This might involve removing punctuation, lowercasing all text, etc. You can use NLTK for this. Here's\n",
    "a simple example of how to clean up a single string:\n",
    "```python"
   ]
  }
 ],
 "metadata": {
  "kernelspec": {
   "display_name": "Python 3 (ipykernel)",
   "language": "python",
   "name": "python3"
  },
  "language_info": {
   "codemirror_mode": {
    "name": "ipython",
    "version": 3
   },
   "file_extension": ".py",
   "mimetype": "text/x-python",
   "name": "python",
   "nbconvert_exporter": "python",
   "pygments_lexer": "ipython3",
   "version": "3.9.6"
  }
 },
 "nbformat": 4,
 "nbformat_minor": 4
}
