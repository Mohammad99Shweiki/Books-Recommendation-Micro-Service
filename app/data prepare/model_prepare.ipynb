{
 "cells": [
  {
   "cell_type": "markdown",
   "metadata": {
    "collapsed": true,
    "jupyter": {
     "outputs_hidden": true
    },
    "pycharm": {
     "name": "#%% md\n"
    }
   },
   "source": []
  },
  {
   "cell_type": "code",
   "execution_count": 48,
   "metadata": {
    "collapsed": false,
    "jupyter": {
     "outputs_hidden": false
    },
    "pycharm": {
     "name": "#%%\n"
    }
   },
   "outputs": [],
   "source": [
    "import pandas as pd\n",
    "import math"
   ]
  },
  {
   "cell_type": "code",
   "execution_count": 49,
   "outputs": [
    {
     "name": "stderr",
     "output_type": "stream",
     "text": [
      "/var/folders/vn/gx5pnsy51rxddtty65n5qbhm0000gn/T/ipykernel_88755/1009886183.py:47: UserWarning: Could not infer format, so each element will be parsed individually, falling back to `dateutil`. To ensure parsing is consistent and as-expected, please specify a format.\n",
      "  data_set['publicationDate'] = pd.to_datetime(data_set['publicationDate'], errors='coerce')\n"
     ]
    },
    {
     "data": {
      "text/plain": "                          title  \\\n6578                    Sunrise   \n16808             Night's Child   \n8387          Three Cups of Tea   \n8202                 Love Bites   \n10184           The Owl Killers   \n...                         ...   \n49678              Second Sight   \n4668           One Silent Night   \n5787             The Long Earth   \n3135   The Tender Bar: A Memoir   \n7481            The Faerie Path   \n\n                                             description language  \\\n6578   Erin Hunter's #1 nationally bestselling Warrio...  English   \n16808  Morgan's saga continues in this double-length,...  English   \n8387   This young readers edition of the worldwide be...  English   \n8202   True Love: Good From The First Bite...Etienne ...  English   \n10184  From the author of Company of Liars, hailed as...  English   \n...                                                  ...      ...   \n49678  Financially straitened and on the path to spin...  English   \n4668   While the world carries on unawares, Stryker, ...  English   \n5787   From the back jacket:NORMALLY, WHEN THERE WAS ...  English   \n3135   In the grand tradition of landmark memoirs - a...  English   \n7481   Swept away into a court of magic and beauty, s...  English   \n\n                                                  genres publicationDate  \\\n6578   ['Fantasy', 'Animals', 'Fiction', 'Middle Grad...      2009-04-21   \n16808  ['Young Adult', 'Fantasy', 'Witches', 'Paranor...      2003-08-25   \n8387   ['Nonfiction', 'Memoir', 'Biography', 'Educati...      2009-01-22   \n8202   ['Paranormal Romance', 'Romance', 'Vampires', ...      2004-01-06   \n10184  ['Historical Fiction', 'Fiction', 'Historical'...      2009-06-01   \n...                                                  ...             ...   \n49678  ['Romance', 'Historical Romance', 'Paranormal'...      2007-03-27   \n4668   ['Paranormal Romance', 'Paranormal', 'Romance'...      2008-11-02   \n5787   ['Science Fiction', 'Fantasy', 'Fiction', 'Sci...      2012-06-19   \n3135   ['Memoir', 'Nonfiction', 'Biography', 'Autobio...      2006-08-01   \n7481   ['Fantasy', 'Young Adult', 'Romance', 'Fairies...      2007-02-01   \n\n                                                  awards pages  \\\n6578                                                  []   318   \n16808                                                 []   320   \n8387   ['Dayton Literary Peace Prize Nominee for Nonf...   240   \n8202                                                  []   373   \n10184  ['Shirley Jackson Award Nominee for Novel (200...   640   \n...                                                  ...   ...   \n49678                                                 []   338   \n4668                                                  []   310   \n5787   ['Goodreads Choice Award for Science Fiction (...   336   \n3135   ['Audie Award for Narration by the Author or A...   416   \n7481                                                  []   312   \n\n                  publisher           ISBN  \\\n6578          HarperCollins  9780060892173   \n16808                Puffin  9780142501191   \n8387           Puffin Books  9780142414125   \n8202             Love Spell  9780505525536   \n10184        Michael Joseph  9780718153205   \n...                     ...            ...   \n49678            Jove Books  9780515142808   \n4668     St. Martin's Press  9780312947064   \n5787   HarperCollins Harper  9780062067753   \n3135               Hyperion  9780786888764   \n7481                    Eos  9780060871024   \n\n                                               imageLink  \\\n6578   https://i.gr-assets.com/images/S/compressed.ph...   \n16808  https://i.gr-assets.com/images/S/compressed.ph...   \n8387   https://i.gr-assets.com/images/S/compressed.ph...   \n8202   https://i.gr-assets.com/images/S/compressed.ph...   \n10184  https://i.gr-assets.com/images/S/compressed.ph...   \n...                                                  ...   \n49678  https://i.gr-assets.com/images/S/compressed.ph...   \n4668   https://i.gr-assets.com/images/S/compressed.ph...   \n5787   https://i.gr-assets.com/images/S/compressed.ph...   \n3135   https://i.gr-assets.com/images/S/compressed.ph...   \n7481   https://i.gr-assets.com/images/S/compressed.ph...   \n\n                                                 authors  price  available  \n6578                                       [Erin Hunter]      2         10  \n16808                                     [Cate Tiernan]      1         10  \n8387   [Sarah L. Thomson (Adapter), Greg Mortenson (G...      2         10  \n8202                   [Lynsay Sands (Goodreads Author)]      1         10  \n10184                [Karen Maitland (Goodreads Author)]      2         10  \n...                                                  ...    ...        ...  \n49678  [Amanda Quick (Goodreads Author), Jayne Ann Kr...      3         10  \n4668               [Sherrilyn Kenyon (Goodreads Author)]      3         10  \n5787                   [Terry Pratchett, Stephen Baxter]      7         10  \n3135                                   [J.R. Moehringer]      3         10  \n7481                                [Allan Frewin Jones]      3         10  \n\n[5000 rows x 13 columns]",
      "text/html": "<div>\n<style scoped>\n    .dataframe tbody tr th:only-of-type {\n        vertical-align: middle;\n    }\n\n    .dataframe tbody tr th {\n        vertical-align: top;\n    }\n\n    .dataframe thead th {\n        text-align: right;\n    }\n</style>\n<table border=\"1\" class=\"dataframe\">\n  <thead>\n    <tr style=\"text-align: right;\">\n      <th></th>\n      <th>title</th>\n      <th>description</th>\n      <th>language</th>\n      <th>genres</th>\n      <th>publicationDate</th>\n      <th>awards</th>\n      <th>pages</th>\n      <th>publisher</th>\n      <th>ISBN</th>\n      <th>imageLink</th>\n      <th>authors</th>\n      <th>price</th>\n      <th>available</th>\n    </tr>\n  </thead>\n  <tbody>\n    <tr>\n      <th>6578</th>\n      <td>Sunrise</td>\n      <td>Erin Hunter's #1 nationally bestselling Warrio...</td>\n      <td>English</td>\n      <td>['Fantasy', 'Animals', 'Fiction', 'Middle Grad...</td>\n      <td>2009-04-21</td>\n      <td>[]</td>\n      <td>318</td>\n      <td>HarperCollins</td>\n      <td>9780060892173</td>\n      <td>https://i.gr-assets.com/images/S/compressed.ph...</td>\n      <td>[Erin Hunter]</td>\n      <td>2</td>\n      <td>10</td>\n    </tr>\n    <tr>\n      <th>16808</th>\n      <td>Night's Child</td>\n      <td>Morgan's saga continues in this double-length,...</td>\n      <td>English</td>\n      <td>['Young Adult', 'Fantasy', 'Witches', 'Paranor...</td>\n      <td>2003-08-25</td>\n      <td>[]</td>\n      <td>320</td>\n      <td>Puffin</td>\n      <td>9780142501191</td>\n      <td>https://i.gr-assets.com/images/S/compressed.ph...</td>\n      <td>[Cate Tiernan]</td>\n      <td>1</td>\n      <td>10</td>\n    </tr>\n    <tr>\n      <th>8387</th>\n      <td>Three Cups of Tea</td>\n      <td>This young readers edition of the worldwide be...</td>\n      <td>English</td>\n      <td>['Nonfiction', 'Memoir', 'Biography', 'Educati...</td>\n      <td>2009-01-22</td>\n      <td>['Dayton Literary Peace Prize Nominee for Nonf...</td>\n      <td>240</td>\n      <td>Puffin Books</td>\n      <td>9780142414125</td>\n      <td>https://i.gr-assets.com/images/S/compressed.ph...</td>\n      <td>[Sarah L. Thomson (Adapter), Greg Mortenson (G...</td>\n      <td>2</td>\n      <td>10</td>\n    </tr>\n    <tr>\n      <th>8202</th>\n      <td>Love Bites</td>\n      <td>True Love: Good From The First Bite...Etienne ...</td>\n      <td>English</td>\n      <td>['Paranormal Romance', 'Romance', 'Vampires', ...</td>\n      <td>2004-01-06</td>\n      <td>[]</td>\n      <td>373</td>\n      <td>Love Spell</td>\n      <td>9780505525536</td>\n      <td>https://i.gr-assets.com/images/S/compressed.ph...</td>\n      <td>[Lynsay Sands (Goodreads Author)]</td>\n      <td>1</td>\n      <td>10</td>\n    </tr>\n    <tr>\n      <th>10184</th>\n      <td>The Owl Killers</td>\n      <td>From the author of Company of Liars, hailed as...</td>\n      <td>English</td>\n      <td>['Historical Fiction', 'Fiction', 'Historical'...</td>\n      <td>2009-06-01</td>\n      <td>['Shirley Jackson Award Nominee for Novel (200...</td>\n      <td>640</td>\n      <td>Michael Joseph</td>\n      <td>9780718153205</td>\n      <td>https://i.gr-assets.com/images/S/compressed.ph...</td>\n      <td>[Karen Maitland (Goodreads Author)]</td>\n      <td>2</td>\n      <td>10</td>\n    </tr>\n    <tr>\n      <th>...</th>\n      <td>...</td>\n      <td>...</td>\n      <td>...</td>\n      <td>...</td>\n      <td>...</td>\n      <td>...</td>\n      <td>...</td>\n      <td>...</td>\n      <td>...</td>\n      <td>...</td>\n      <td>...</td>\n      <td>...</td>\n      <td>...</td>\n    </tr>\n    <tr>\n      <th>49678</th>\n      <td>Second Sight</td>\n      <td>Financially straitened and on the path to spin...</td>\n      <td>English</td>\n      <td>['Romance', 'Historical Romance', 'Paranormal'...</td>\n      <td>2007-03-27</td>\n      <td>[]</td>\n      <td>338</td>\n      <td>Jove Books</td>\n      <td>9780515142808</td>\n      <td>https://i.gr-assets.com/images/S/compressed.ph...</td>\n      <td>[Amanda Quick (Goodreads Author), Jayne Ann Kr...</td>\n      <td>3</td>\n      <td>10</td>\n    </tr>\n    <tr>\n      <th>4668</th>\n      <td>One Silent Night</td>\n      <td>While the world carries on unawares, Stryker, ...</td>\n      <td>English</td>\n      <td>['Paranormal Romance', 'Paranormal', 'Romance'...</td>\n      <td>2008-11-02</td>\n      <td>[]</td>\n      <td>310</td>\n      <td>St. Martin's Press</td>\n      <td>9780312947064</td>\n      <td>https://i.gr-assets.com/images/S/compressed.ph...</td>\n      <td>[Sherrilyn Kenyon (Goodreads Author)]</td>\n      <td>3</td>\n      <td>10</td>\n    </tr>\n    <tr>\n      <th>5787</th>\n      <td>The Long Earth</td>\n      <td>From the back jacket:NORMALLY, WHEN THERE WAS ...</td>\n      <td>English</td>\n      <td>['Science Fiction', 'Fantasy', 'Fiction', 'Sci...</td>\n      <td>2012-06-19</td>\n      <td>['Goodreads Choice Award for Science Fiction (...</td>\n      <td>336</td>\n      <td>HarperCollins Harper</td>\n      <td>9780062067753</td>\n      <td>https://i.gr-assets.com/images/S/compressed.ph...</td>\n      <td>[Terry Pratchett, Stephen Baxter]</td>\n      <td>7</td>\n      <td>10</td>\n    </tr>\n    <tr>\n      <th>3135</th>\n      <td>The Tender Bar: A Memoir</td>\n      <td>In the grand tradition of landmark memoirs - a...</td>\n      <td>English</td>\n      <td>['Memoir', 'Nonfiction', 'Biography', 'Autobio...</td>\n      <td>2006-08-01</td>\n      <td>['Audie Award for Narration by the Author or A...</td>\n      <td>416</td>\n      <td>Hyperion</td>\n      <td>9780786888764</td>\n      <td>https://i.gr-assets.com/images/S/compressed.ph...</td>\n      <td>[J.R. Moehringer]</td>\n      <td>3</td>\n      <td>10</td>\n    </tr>\n    <tr>\n      <th>7481</th>\n      <td>The Faerie Path</td>\n      <td>Swept away into a court of magic and beauty, s...</td>\n      <td>English</td>\n      <td>['Fantasy', 'Young Adult', 'Romance', 'Fairies...</td>\n      <td>2007-02-01</td>\n      <td>[]</td>\n      <td>312</td>\n      <td>Eos</td>\n      <td>9780060871024</td>\n      <td>https://i.gr-assets.com/images/S/compressed.ph...</td>\n      <td>[Allan Frewin Jones]</td>\n      <td>3</td>\n      <td>10</td>\n    </tr>\n  </tbody>\n</table>\n<p>5000 rows × 13 columns</p>\n</div>"
     },
     "execution_count": 49,
     "metadata": {},
     "output_type": "execute_result"
    }
   ],
   "source": [
    "data_set = pd.read_csv('book_ds.csv')\n",
    "\n",
    "data_set = data_set.drop_duplicates(subset=['title', 'description'])\n",
    "\n",
    "data_set = data_set.loc[:,\n",
    "           ['title', 'description', 'language', 'genres', 'publishDate', 'awards', 'pages', 'publisher', 'isbn',\n",
    "            'coverImg', 'author', 'price']]\n",
    "data_set = data_set.reset_index(drop=True)\n",
    "\n",
    "english_regex = r\"[a-zA-Z0-9\\s.,?!']+\"\n",
    "data_set = data_set[(data_set['language'] == \"English\") |\n",
    "                    (data_set['language'].isna() & data_set['title'].str.fullmatch(english_regex)) &\n",
    "                    (~data_set['description'].isna())]\n",
    "\n",
    "data_set = data_set.rename(\n",
    "    columns={'publishDate': 'publicationDate', 'author': 'authors', 'isbn': 'ISBN', 'coverImg': 'imageLink'})\n",
    "data_set['language'] = data_set['language'].fillna('English')\n",
    "data_set.dropna(axis=0, inplace=True)\n",
    "\n",
    "data_set['available'] = 10\n",
    "\n",
    "data_set['price'] = pd.to_numeric(data_set['price'], errors='coerce')\n",
    "price_mean = data_set['price'].mean()\n",
    "data_set['price'] = data_set['price'].fillna(price_mean)\n",
    "data_set['price'] = data_set['price'].apply(lambda x: math.trunc(x))\n",
    "\n",
    "\n",
    "def split_authors(authors_string):\n",
    "    return [author.strip() for author in authors_string.split(',')]\n",
    "\n",
    "\n",
    "data_set['authors'] = data_set['authors'].apply(split_authors)\n",
    "\n",
    "data_set = data_set[~data_set['publicationDate'].astype(str).str.isalnum()]\n",
    "\n",
    "\n",
    "data_set['publicationDate'] = pd.to_datetime(data_set['publicationDate'], errors='coerce')\n",
    "data_set['publicationDate'] = data_set['publicationDate'].astype(str)\n",
    "data_set = data_set.sample(n=5000, random_state=42)"
   ],
   "metadata": {
    "collapsed": false,
    "pycharm": {
     "name": "#%%\n"
    }
   }
  },
  {
   "cell_type": "markdown",
   "source": [
    "add to database"
   ],
   "metadata": {
    "collapsed": false,
    "pycharm": {
     "name": "#%% md\n"
    }
   }
  },
  {
   "cell_type": "code",
   "execution_count": 49,
   "outputs": [],
   "source": [],
   "metadata": {
    "collapsed": false,
    "pycharm": {
     "name": "#%%\n"
    }
   }
  },
  {
   "cell_type": "code",
   "execution_count": null,
   "outputs": [],
   "source": [
    "import requests\n",
    "post_url = \"http://localhost:8080/books/\"\n",
    "\n",
    "\n",
    "def process_text(text):\n",
    "    result =  ''.join(char for char in text if char.isalnum() or char == \",\" or char == ' ')\n",
    "    return result.split(',')\n",
    "\n",
    "def send_book_data(book_data):\n",
    "    try:\n",
    "        book_data['genres'] = process_text(book_data['genres'])\n",
    "        book_data['awards'] = process_text(book_data['awards'])\n",
    "        book_data['publicationDate'] = str(book_data['publicationDate'])\n",
    "        book_data['isbn'] = book_data['ISBN']\n",
    "        response = requests.post(post_url, json=book_data)\n",
    "        response.raise_for_status()\n",
    "        print(f\"Book data sent successfully! Status code: {response.status_code}\")\n",
    "    except requests.exceptions.RequestException as e:\n",
    "        print(f\"Error sending book data: {e}\")\n",
    "\n",
    "\n",
    "for index, row in data_set.iterrows():\n",
    "    send_book_data(row.to_dict())"
   ],
   "metadata": {
    "collapsed": false,
    "pycharm": {
     "name": "#%%\n",
     "is_executing": true
    }
   }
  },
  {
   "cell_type": "code",
   "execution_count": 51,
   "outputs": [],
   "source": [],
   "metadata": {
    "collapsed": false,
    "pycharm": {
     "name": "#%%\n"
    }
   }
  },
  {
   "cell_type": "code",
   "execution_count": null,
   "outputs": [],
   "source": [],
   "metadata": {
    "collapsed": false,
    "pycharm": {
     "name": "#%%\n"
    }
   }
  }
 ],
 "metadata": {
  "kernelspec": {
   "display_name": "Python 3 (ipykernel)",
   "language": "python",
   "name": "python3"
  },
  "language_info": {
   "codemirror_mode": {
    "name": "ipython",
    "version": 3
   },
   "file_extension": ".py",
   "mimetype": "text/x-python",
   "name": "python",
   "nbconvert_exporter": "python",
   "pygments_lexer": "ipython3",
   "version": "3.9.6"
  }
 },
 "nbformat": 4,
 "nbformat_minor": 4
}